{
 "cells": [
  {
   "cell_type": "code",
   "execution_count": 22,
   "metadata": {},
   "outputs": [],
   "source": [
    "import sympy\n",
    "x = sympy.symbols(\"x\")\n",
    "import math\n",
    "import numpy as np"
   ]
  },
  {
   "cell_type": "code",
   "execution_count": 2,
   "metadata": {},
   "outputs": [],
   "source": [
    "def calcRes(tgt, upper, vin):\n",
    "    z = ((x/(x+upper)) * vin) - tgt\n",
    "    return sympy.solve(z)[0]"
   ]
  },
  {
   "cell_type": "code",
   "execution_count": 33,
   "metadata": {},
   "outputs": [
    {
     "name": "stdout",
     "output_type": "stream",
     "text": [
      "    41 -    196 |  0.064 -  0.190 -  0.322\n",
      "   311 -    698 |  0.531 -  0.921 -  1.368\n",
      "   880 -   1237 |  1.854 -  2.408 -  3.057\n",
      "  1462 -   1776 |  4.056 -  4.910 -  5.941\n",
      "  2057 -   2596 |  8.444 -  12.193 -  18.812\n"
     ]
    }
   ],
   "source": [
    "bounds = [0, 249, 787, 1347, 1920, 2778]\n",
    "\n",
    "adcgap = 3\n",
    "restol = 0.05\n",
    "for i in range(len(bounds)-1):\n",
    "    lbnd = math.ceil((bounds[i]/3300)*256)+adcgap\n",
    "    ubnd = math.floor(((bounds[i+1]-1)/3300)*256)-adcgap\n",
    "    lvlt = lbnd * (3.3e3/256) * (1 + restol)\n",
    "    uvlt = ubnd * (3.3e3/256) * (1 - restol)\n",
    "    lres = calcRes(lvlt, 5.1, 3.3e3)\n",
    "    hres = calcRes(uvlt, 5.1, 3.3e3)\n",
    "    mres = (lres + hres) / 2\n",
    "    mres = calcRes((lvlt + uvlt) / 2, 5.1, 3.3e3)\n",
    "    print(f\"{lvlt: 6.0f} - {uvlt: 6.0f} | {lres: 5.3f} - {mres: 5.3f} - {hres: 5.3f}\")"
   ]
  },
  {
   "cell_type": "code",
   "execution_count": 39,
   "metadata": {},
   "outputs": [
    {
     "name": "stdout",
     "output_type": "stream",
     "text": [
      "[0 0] 0.0\n",
      "[1 0] 628.5714285714286\n",
      "[0 1] 1222.2222222222224\n",
      "[1 1] 1490.3225806451612\n"
     ]
    }
   ],
   "source": [
    "r = [1.2, 3]\n",
    "\n",
    "for i in range(4):\n",
    "    inc = np.array([i % 2, i // 2])\n",
    "    rs = np.sum(inc * r)\n",
    "    v = (rs/(rs+5.1))*3300\n",
    "    print(inc, v)"
   ]
  },
  {
   "cell_type": "code",
   "execution_count": null,
   "metadata": {},
   "outputs": [],
   "source": []
  }
 ],
 "metadata": {
  "kernelspec": {
   "display_name": "Python 3",
   "language": "python",
   "name": "python3"
  },
  "language_info": {
   "codemirror_mode": {
    "name": "ipython",
    "version": 3
   },
   "file_extension": ".py",
   "mimetype": "text/x-python",
   "name": "python",
   "nbconvert_exporter": "python",
   "pygments_lexer": "ipython3",
   "version": "3.10.6"
  },
  "orig_nbformat": 4
 },
 "nbformat": 4,
 "nbformat_minor": 2
}
